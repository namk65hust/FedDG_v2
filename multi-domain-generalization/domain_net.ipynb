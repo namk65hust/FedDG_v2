{
 "cells": [
  {
   "cell_type": "code",
   "execution_count": 2,
   "metadata": {},
   "outputs": [],
   "source": [
    "import zipfile\n",
    "import os\n",
    "import numpy as np"
   ]
  },
  {
   "cell_type": "code",
   "execution_count": null,
   "metadata": {},
   "outputs": [],
   "source": [
    "#Download all 6 zip files from http://csr.bu.edu/ftp/visda/2019/multi-source/\n",
    "#clipart & painting domain from ./groundtruth/\n",
    "\n",
    "#---STRUCTURE:\n",
    "#DATA\n",
    "    #domainnet\n",
    "        #clipart\n",
    "        # ...\n",
    "        #sketch\n",
    "        #splits (FILE FROM ./domainnet/txt/)\n",
    "            #clipart_train.txt\n",
    "            #clipart_test.txt\n",
    "            # ..."
   ]
  },
  {
   "cell_type": "code",
   "execution_count": 51,
   "metadata": {},
   "outputs": [
    {
     "name": "stdout",
     "output_type": "stream",
     "text": [
      "Extracted painting.zip to ./DATA/domainnet/\n"
     ]
    }
   ],
   "source": [
    "raw = f'./DATA'\n",
    "des = f'./DATA/domainnet/'\n",
    "domain = ['real', 'clipart', 'painting', 'sketch', 'infograph', 'quickdraw']\n",
    "for d in domain:\n",
    "    file = f'{d}.zip'\n",
    "    ziplink = os.path.join(raw, file)\n",
    "    with zipfile.ZipFile(ziplink, 'r') as zip_ref:\n",
    "        zip_ref.extractall(des)\n",
    "    print(f'Extracted {file} to {des}') \n"
   ]
  },
  {
   "cell_type": "code",
   "execution_count": 8,
   "metadata": {},
   "outputs": [
    {
     "name": "stdout",
     "output_type": "stream",
     "text": [
      "train domain real has 345 classes with 15321 images\n",
      "train domain sketch has 345 classes with 6140 images\n",
      "train domain infograph has 345 classes with 4636 images\n",
      "train domain quickdraw has 345 classes with 15094 images\n",
      "train domain clipart has 345 classes with 4191 images\n",
      "train domain painting has 344 classes with 6302 images\n"
     ]
    }
   ],
   "source": [
    "# Split class, label, domain\n",
    "data_dir = f'./DATA/domainnet'\n",
    "split_dir = f'./DATA/domainnet/splits'\n",
    "split = 'train'\n",
    "reduce_factor = 8\n",
    "input_domain = ['real', 'sketch', 'infograph', 'quickdraw', 'clipart', 'painting']\n",
    "for domain, dname in enumerate(input_domain):\n",
    "    nam = []\n",
    "    count = 0\n",
    "    file_name = dname + '_' + split + '.txt'\n",
    "    split_file = os.path.join(split_dir, file_name)\n",
    "    with open(split_file, 'r') as f:\n",
    "        lines = f.readlines()\n",
    "        x = 0\n",
    "        for line in lines:\n",
    "            count += 1\n",
    "            if count % reduce_factor == 1:\n",
    "                x += 1\n",
    "            line = line.strip()\n",
    "            impath, label = line.split(' ')\n",
    "            classname = impath.split('/')[1]\n",
    "            nam.append(classname)\n",
    "    nam = np.unique(nam)\n",
    "    print(f'{split} domain {dname} has {len(nam)} classes with {x} images')\n",
    "    "
   ]
  },
  {
   "cell_type": "code",
   "execution_count": 5,
   "metadata": {},
   "outputs": [
    {
     "name": "stdout",
     "output_type": "stream",
     "text": [
      "test domain real has 345 classes with 2639 samples\n",
      "test domain sketch has 345 classes with 1064 samples\n",
      "test domain infograph has 345 classes with 806 samples\n",
      "test domain quickdraw has 345 classes with 2588 samples\n",
      "test domain clipart has 345 classes with 731 samples\n",
      "test domain painting has 344 classes with 1093 samples\n"
     ]
    }
   ],
   "source": [
    "data_dir = f'./DATA/domainnet'\n",
    "split_dir = f'./DATA/domainnet/splits'\n",
    "split = 'test'\n",
    "reduce_factor=20\n",
    "input_domain = ['real', 'sketch', 'infograph', 'quickdraw', 'clipart', 'painting']\n",
    "for domain, dname in enumerate(input_domain):\n",
    "    nam = []\n",
    "    count = 0\n",
    "    file_name = dname + '_' + split + '.txt'\n",
    "    split_file = os.path.join(split_dir, file_name)\n",
    "    with open(split_file, 'r') as f:\n",
    "        lines = f.readlines()\n",
    "        x = 0\n",
    "        for line in lines:\n",
    "            count += 1\n",
    "            if count % reduce_factor == 1:\n",
    "                x += 1\n",
    "            line = line.strip()\n",
    "            impath, label = line.split(' ')\n",
    "            classname = impath.split('/')[1]\n",
    "            nam.append(classname)\n",
    "    nam = np.unique(nam)\n",
    "    print(f'{split} domain {dname} has {len(nam)} classes with {x} samples')"
   ]
  }
 ],
 "metadata": {
  "kernelspec": {
   "display_name": "ndg2",
   "language": "python",
   "name": "python3"
  },
  "language_info": {
   "codemirror_mode": {
    "name": "ipython",
    "version": 3
   },
   "file_extension": ".py",
   "mimetype": "text/x-python",
   "name": "python",
   "nbconvert_exporter": "python",
   "pygments_lexer": "ipython3",
   "version": "3.9.18"
  },
  "orig_nbformat": 4
 },
 "nbformat": 4,
 "nbformat_minor": 2
}
